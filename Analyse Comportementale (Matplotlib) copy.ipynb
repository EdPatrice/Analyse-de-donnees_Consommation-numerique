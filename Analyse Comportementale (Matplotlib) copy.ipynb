{
 "cells": [
  {
   "cell_type": "code",
   "execution_count": 86,
   "metadata": {},
   "outputs": [],
   "source": [
    "import pandas as pd\n",
    "import numpy as np \n",
    "import matplotlib.pyplot as plt"
   ]
  },
  {
   "cell_type": "code",
   "execution_count": 87,
   "metadata": {},
   "outputs": [],
   "source": [
    "# df = pd.read_csv(\"./Donnees/donnees_consommation.csv\")\n",
    "df = pd.read_csv(\"./Donnees/donnees_con.csv\")"
   ]
  },
  {
   "cell_type": "code",
   "execution_count": 88,
   "metadata": {},
   "outputs": [],
   "source": [
    "df.rename(columns={\"Age \": \"Age\", \"Appareil \": \"Appareil\", \"Temps_Réseau\": \"Temps_Reseau\", \"Plateforme_Préférée\": \"Plateforme_Preferee\"}, inplace=True)\n",
    "df.drop(columns={\"Horodateur\"}, inplace=True)\n",
    "df[\"Age\"] = df[\"Age\"].astype(\"string\")\n",
    "df[\"Temps_Reseau\"] = df[\"Temps_Reseau\"].astype(\"string\")\n",
    "df[\"Temps_Streaming\"] = df[\"Temps_Streaming\"].astype(\"string\")\n",
    "df[\"Temps_Jeux\"] = df[\"Temps_Jeux\"].astype(\"string\")\n",
    "df[\"Plateforme_Preferee\"] = df[\"Plateforme_Preferee\"].astype(\"string\")\n",
    "df[\"Appareil\"] = df[\"Appareil\"].astype(\"string\")"
   ]
  },
  {
   "cell_type": "code",
   "execution_count": 89,
   "metadata": {},
   "outputs": [
    {
     "data": {
      "text/plain": [
       "Sexe                           object\n",
       "Age                    string[python]\n",
       "Temps_Reseau           string[python]\n",
       "Temps_Streaming        string[python]\n",
       "Temps_Jeux             string[python]\n",
       "Plateforme_Preferee    string[python]\n",
       "Appareil               string[python]\n",
       "dtype: object"
      ]
     },
     "execution_count": 89,
     "metadata": {},
     "output_type": "execute_result"
    }
   ],
   "source": [
    "df.dtypes"
   ]
  },
  {
   "cell_type": "code",
   "execution_count": 90,
   "metadata": {},
   "outputs": [
    {
     "name": "stdout",
     "output_type": "stream",
     "text": [
      "1\n",
      "1\n",
      "3\n",
      "1\n"
     ]
    }
   ],
   "source": [
    "pattern = r'\\d+h\\s-\\s\\d+h'  # 9h - 10h\n",
    "print(df[~df[\"Temps_Reseau\"].str.contains(pattern, regex=True)][\"Temps_Reseau\"].count())\n",
    "print(df[~df[\"Temps_Streaming\"].str.contains(pattern, regex=True)][\"Temps_Streaming\"].count())\n",
    "print(df[~df[\"Temps_Jeux\"].str.contains(pattern, regex=True)][\"Temps_Jeux\"].count())\n",
    "\n",
    "pattern = r'\\d+\\s-\\s\\d+\\sans'   # 10 - 17 ans\n",
    "print(df[~df[\"Age\"].str.contains(pattern, regex=True)][\"Age\"].count())"
   ]
  },
  {
   "cell_type": "code",
   "execution_count": null,
   "metadata": {},
   "outputs": [],
   "source": [
    "# Convertir les colonnes ayant plusieurs valeurs en liste\n",
    "df[\"Plateforme_Preferee\"] = df[\"Plateforme_Preferee\"].str.split(\";\")\n",
    "df[\"Appareil\"] = df[\"Appareil\"].str.split(\";\")\n",
    "\n",
    "# Explosion de la premiere colonne\n",
    "df = df.explode(\"Plateforme_Preferee\")\n",
    "\n",
    "# Explosion de la deuxieme colonne\n",
    "df = df.explode(\"Appareil\")"
   ]
  },
  {
   "cell_type": "code",
   "execution_count": 93,
   "metadata": {},
   "outputs": [
    {
     "data": {
      "text/html": [
       "<div>\n",
       "<style scoped>\n",
       "    .dataframe tbody tr th:only-of-type {\n",
       "        vertical-align: middle;\n",
       "    }\n",
       "\n",
       "    .dataframe tbody tr th {\n",
       "        vertical-align: top;\n",
       "    }\n",
       "\n",
       "    .dataframe thead th {\n",
       "        text-align: right;\n",
       "    }\n",
       "</style>\n",
       "<table border=\"1\" class=\"dataframe\">\n",
       "  <thead>\n",
       "    <tr style=\"text-align: right;\">\n",
       "      <th></th>\n",
       "      <th>Sexe</th>\n",
       "      <th>Age</th>\n",
       "      <th>Temps_Reseau</th>\n",
       "      <th>Temps_Streaming</th>\n",
       "      <th>Temps_Jeux</th>\n",
       "      <th>Plateforme_Preferee</th>\n",
       "      <th>Appareil</th>\n",
       "    </tr>\n",
       "  </thead>\n",
       "  <tbody>\n",
       "    <tr>\n",
       "      <th>28</th>\n",
       "      <td>Feminin</td>\n",
       "      <td>10 - 17 ans</td>\n",
       "      <td>&lt; 1h</td>\n",
       "      <td>7h - 8h</td>\n",
       "      <td>&lt; 1h</td>\n",
       "      <td>TikTok</td>\n",
       "      <td>Ordinateur</td>\n",
       "    </tr>\n",
       "    <tr>\n",
       "      <th>28</th>\n",
       "      <td>Feminin</td>\n",
       "      <td>10 - 17 ans</td>\n",
       "      <td>&lt; 1h</td>\n",
       "      <td>7h - 8h</td>\n",
       "      <td>&lt; 1h</td>\n",
       "      <td>TikTok</td>\n",
       "      <td>Smart TV</td>\n",
       "    </tr>\n",
       "    <tr>\n",
       "      <th>28</th>\n",
       "      <td>Feminin</td>\n",
       "      <td>10 - 17 ans</td>\n",
       "      <td>&lt; 1h</td>\n",
       "      <td>7h - 8h</td>\n",
       "      <td>&lt; 1h</td>\n",
       "      <td>WhatsApp</td>\n",
       "      <td>Ordinateur</td>\n",
       "    </tr>\n",
       "    <tr>\n",
       "      <th>28</th>\n",
       "      <td>Feminin</td>\n",
       "      <td>10 - 17 ans</td>\n",
       "      <td>&lt; 1h</td>\n",
       "      <td>7h - 8h</td>\n",
       "      <td>&lt; 1h</td>\n",
       "      <td>WhatsApp</td>\n",
       "      <td>Smart TV</td>\n",
       "    </tr>\n",
       "  </tbody>\n",
       "</table>\n",
       "</div>"
      ],
      "text/plain": [
       "       Sexe          Age Temps_Reseau Temps_Streaming Temps_Jeux  \\\n",
       "28  Feminin  10 - 17 ans         < 1h         7h - 8h       < 1h   \n",
       "28  Feminin  10 - 17 ans         < 1h         7h - 8h       < 1h   \n",
       "28  Feminin  10 - 17 ans         < 1h         7h - 8h       < 1h   \n",
       "28  Feminin  10 - 17 ans         < 1h         7h - 8h       < 1h   \n",
       "\n",
       "   Plateforme_Preferee    Appareil  \n",
       "28              TikTok  Ordinateur  \n",
       "28              TikTok    Smart TV  \n",
       "28            WhatsApp  Ordinateur  \n",
       "28            WhatsApp    Smart TV  "
      ]
     },
     "execution_count": 93,
     "metadata": {},
     "output_type": "execute_result"
    }
   ],
   "source": [
    "pattern = r'\\d+h\\s-\\s\\d+h'  # 9h - 10h\n",
    "df[~df[\"Temps_Reseau\"].str.contains(pattern, regex=True)]\n",
    "# print(df[~df[\"Temps_Streaming\"].str.contains(pattern, regex=True)][\"Temps_Streaming\"].count())\n",
    "# print(df[~df[\"Temps_Jeux\"].str.contains(pattern, regex=True)][\"Temps_Jeux\"].count())\n",
    "\n",
    "# pattern = r'\\d+\\s-\\s\\d+\\sans'   # 10 - 17 ans\n",
    "# print(df[~df[\"Age\"].str.contains(pattern, regex=True)][\"Age\"].count())\n"
   ]
  },
  {
   "cell_type": "code",
   "execution_count": 94,
   "metadata": {},
   "outputs": [
    {
     "data": {
      "text/html": [
       "<div>\n",
       "<style scoped>\n",
       "    .dataframe tbody tr th:only-of-type {\n",
       "        vertical-align: middle;\n",
       "    }\n",
       "\n",
       "    .dataframe tbody tr th {\n",
       "        vertical-align: top;\n",
       "    }\n",
       "\n",
       "    .dataframe thead th {\n",
       "        text-align: right;\n",
       "    }\n",
       "</style>\n",
       "<table border=\"1\" class=\"dataframe\">\n",
       "  <thead>\n",
       "    <tr style=\"text-align: right;\">\n",
       "      <th></th>\n",
       "      <th>Sexe</th>\n",
       "      <th>Age</th>\n",
       "      <th>Temps_Reseau</th>\n",
       "      <th>Temps_Streaming</th>\n",
       "      <th>Temps_Jeux</th>\n",
       "      <th>Plateforme_Preferee</th>\n",
       "      <th>Appareil</th>\n",
       "    </tr>\n",
       "  </thead>\n",
       "  <tbody>\n",
       "    <tr>\n",
       "      <th>0</th>\n",
       "      <td>Masculin</td>\n",
       "      <td>18 - 24</td>\n",
       "      <td>9.5</td>\n",
       "      <td>1.5</td>\n",
       "      <td>3.5</td>\n",
       "      <td>Instagram</td>\n",
       "      <td>Smartphone</td>\n",
       "    </tr>\n",
       "    <tr>\n",
       "      <th>1</th>\n",
       "      <td>Feminin</td>\n",
       "      <td>18 - 24</td>\n",
       "      <td>3.5</td>\n",
       "      <td>3.5</td>\n",
       "      <td>5.5</td>\n",
       "      <td>TikTok</td>\n",
       "      <td>Smartphone</td>\n",
       "    </tr>\n",
       "    <tr>\n",
       "      <th>2</th>\n",
       "      <td>Masculin</td>\n",
       "      <td>18 - 24</td>\n",
       "      <td>6.5</td>\n",
       "      <td>1.5</td>\n",
       "      <td>2.5</td>\n",
       "      <td>TikTok</td>\n",
       "      <td>Smartphone</td>\n",
       "    </tr>\n",
       "    <tr>\n",
       "      <th>3</th>\n",
       "      <td>Feminin</td>\n",
       "      <td>18 - 24</td>\n",
       "      <td>9.5</td>\n",
       "      <td>7.5</td>\n",
       "      <td>1.5</td>\n",
       "      <td>TikTok</td>\n",
       "      <td>Smartphone</td>\n",
       "    </tr>\n",
       "    <tr>\n",
       "      <th>4</th>\n",
       "      <td>Feminin</td>\n",
       "      <td>18 - 24</td>\n",
       "      <td>9.5</td>\n",
       "      <td>9.5</td>\n",
       "      <td>3.5</td>\n",
       "      <td>TikTok</td>\n",
       "      <td>Smartphone</td>\n",
       "    </tr>\n",
       "  </tbody>\n",
       "</table>\n",
       "</div>"
      ],
      "text/plain": [
       "       Sexe      Age  Temps_Reseau  Temps_Streaming  Temps_Jeux  \\\n",
       "0  Masculin  18 - 24           9.5              1.5         3.5   \n",
       "1   Feminin  18 - 24           3.5              3.5         5.5   \n",
       "2  Masculin  18 - 24           6.5              1.5         2.5   \n",
       "3   Feminin  18 - 24           9.5              7.5         1.5   \n",
       "4   Feminin  18 - 24           9.5              9.5         3.5   \n",
       "\n",
       "  Plateforme_Preferee    Appareil  \n",
       "0           Instagram  Smartphone  \n",
       "1              TikTok  Smartphone  \n",
       "2              TikTok  Smartphone  \n",
       "3              TikTok  Smartphone  \n",
       "4              TikTok  Smartphone  "
      ]
     },
     "execution_count": 94,
     "metadata": {},
     "output_type": "execute_result"
    }
   ],
   "source": [
    "from functions import temps_moyen\n",
    "df[\"Temps_Reseau\"] = df[\"Temps_Reseau\"].apply(temps_moyen)\n",
    "df[\"Temps_Streaming\"] = df[\"Temps_Streaming\"].apply(temps_moyen)\n",
    "df[\"Temps_Jeux\"] = df[\"Temps_Jeux\"].apply(temps_moyen)\n",
    "\n",
    "df[\"Age\"] = df['Age'].str.replace(' ans', '')\n",
    "df.head(2)\n",
    "\n",
    "# mask = df[\"Sexe\"] == 'Masculin'\n",
    "# df[\"Sexe\"].loc[mask] = 'M'\n",
    "# mask = df[\"Sexe\"] == 'Feminin'\n",
    "# df[\"Sexe\"].loc[mask] = 'F'\n",
    "\n",
    "df.head()"
   ]
  },
  {
   "cell_type": "code",
   "execution_count": 95,
   "metadata": {},
   "outputs": [
    {
     "name": "stdout",
     "output_type": "stream",
     "text": [
      "Sexe                           object\n",
      "Age                    string[python]\n",
      "Temps_Reseau                  float64\n",
      "Temps_Streaming               float64\n",
      "Temps_Jeux                    float64\n",
      "Plateforme_Preferee            object\n",
      "Appareil                       object\n",
      "dtype: object\n"
     ]
    }
   ],
   "source": [
    "# print(df.columns)\n",
    "print(df.dtypes)"
   ]
  },
  {
   "cell_type": "markdown",
   "metadata": {},
   "source": [
    "## Temps passe sur les reseaux sociaux"
   ]
  },
  {
   "cell_type": "markdown",
   "metadata": {},
   "source": [
    "#### Par tranche d'age"
   ]
  },
  {
   "cell_type": "markdown",
   "metadata": {},
   "source": [
    "##### Definition des tranches d'age"
   ]
  },
  {
   "cell_type": "code",
   "execution_count": 96,
   "metadata": {},
   "outputs": [],
   "source": [
    "_10_17 = df['Age'] == '10 - 16'\n",
    "_18_24 = df['Age'] == '18 - 24'\n",
    "_25_34 = df['Age'] == '25 - 34'\n",
    "_35_44 = df['Age'] == '35 - 44'\n",
    "_45_54 = df['Age'] == '45 - 54'\n",
    "_55_xx = df['Age'] == '55 - et plus'"
   ]
  },
  {
   "cell_type": "code",
   "execution_count": 97,
   "metadata": {},
   "outputs": [
    {
     "name": "stdout",
     "output_type": "stream",
     "text": [
      "Temps Reseaux: 6.8\n",
      "Temps Streaming: 3.2\n",
      "Temps Jeux: 2.3\n"
     ]
    }
   ],
   "source": [
    "# 18 a 24 ans\n",
    "print(\"Temps Reseaux: \", end='')\n",
    "print(round(df[_18_24][\"Temps_Reseau\"].mean(), 1))\n",
    "print(\"Temps Streaming: \", end='')\n",
    "print(round(df[_18_24][\"Temps_Streaming\"].mean(), 1))\n",
    "print(\"Temps Jeux: \", end='')\n",
    "print(round(df[_18_24][\"Temps_Jeux\"].mean(), 1))\n",
    "\n"
   ]
  },
  {
   "cell_type": "markdown",
   "metadata": {},
   "source": [
    "##### Par genre"
   ]
  },
  {
   "cell_type": "code",
   "execution_count": 98,
   "metadata": {},
   "outputs": [
    {
     "name": "stdout",
     "output_type": "stream",
     "text": [
      "nan\n",
      "nan\n",
      "\n",
      "nan\n",
      "nan\n",
      "\n",
      "nan\n",
      "nan\n"
     ]
    }
   ],
   "source": [
    "print(df[df[\"Sexe\"] == 'M'][\"Temps_Reseau\"].mean())\n",
    "print(df[df[\"Sexe\"] == 'F'][\"Temps_Reseau\"].mean())\n",
    "print()\n",
    "print(df[df[\"Sexe\"] == 'M'][\"Temps_Streaming\"].mean())\n",
    "print(df[df[\"Sexe\"] == 'F'][\"Temps_Streaming\"].mean())\n",
    "print()\n",
    "print(df[df[\"Sexe\"] == 'M'][\"Temps_Jeux\"].mean())\n",
    "print(df[df[\"Sexe\"] == 'F'][\"Temps_Jeux\"].mean())"
   ]
  },
  {
   "cell_type": "code",
   "execution_count": 99,
   "metadata": {},
   "outputs": [
    {
     "name": "stdout",
     "output_type": "stream",
     "text": [
      "Nbr Hommes:  0\n",
      "Nbr Femmes:  0\n"
     ]
    },
    {
     "data": {
      "text/plain": [
       "np.int64(0)"
      ]
     },
     "execution_count": 99,
     "metadata": {},
     "output_type": "execute_result"
    }
   ],
   "source": [
    "nbr_hommes = df[df[\"Sexe\"] == 'M'][\"Sexe\"].count()\n",
    "nbr_femmes = df[df[\"Sexe\"] == 'F'][\"Sexe\"].count()\n",
    "\n",
    "print(\"Nbr Hommes: \", nbr_hommes)\n",
    "print(\"Nbr Femmes: \", nbr_femmes)\n",
    "\n",
    "nbr_hommes - nbr_femmes"
   ]
  },
  {
   "cell_type": "markdown",
   "metadata": {},
   "source": [
    "#### Histogramme représentatif du temps passé sur les réseaux sociaux"
   ]
  },
  {
   "cell_type": "code",
   "execution_count": 100,
   "metadata": {},
   "outputs": [
    {
     "data": {
      "image/png": "[encoded data removed]",
      "text/plain": [
       "<Figure size 640x480 with 1 Axes>"
      ]
     },
     "metadata": {},
     "output_type": "display_data"
    }
   ],
   "source": [
    "plt.hist(df[\"Temps_Reseau\"], color=\"#500120\", edgecolor= 'white')\n",
    "plt.xlabel(xlabel=\"Nombre d'heures par jour\")\n",
    "plt.title(\"Temps passé sur les réseaux sociaux\")\n",
    "plt.show()"
   ]
  },
  {
   "cell_type": "markdown",
   "metadata": {},
   "source": [
    "#### Diagramme en barres des plateformes les plus utilisées"
   ]
  },
  {
   "cell_type": "code",
   "execution_count": 101,
   "metadata": {},
   "outputs": [
    {
     "data": {
      "text/html": [
       "<div>\n",
       "<style scoped>\n",
       "    .dataframe tbody tr th:only-of-type {\n",
       "        vertical-align: middle;\n",
       "    }\n",
       "\n",
       "    .dataframe tbody tr th {\n",
       "        vertical-align: top;\n",
       "    }\n",
       "\n",
       "    .dataframe thead th {\n",
       "        text-align: right;\n",
       "    }\n",
       "</style>\n",
       "<table border=\"1\" class=\"dataframe\">\n",
       "  <thead>\n",
       "    <tr style=\"text-align: right;\">\n",
       "      <th></th>\n",
       "      <th>Plateforme_Preferee</th>\n",
       "      <th>Nombre</th>\n",
       "    </tr>\n",
       "  </thead>\n",
       "  <tbody>\n",
       "    <tr>\n",
       "      <th>6</th>\n",
       "      <td>TikTok</td>\n",
       "      <td>17</td>\n",
       "    </tr>\n",
       "    <tr>\n",
       "      <th>8</th>\n",
       "      <td>WhatsApp</td>\n",
       "      <td>8</td>\n",
       "    </tr>\n",
       "    <tr>\n",
       "      <th>1</th>\n",
       "      <td>Instagram</td>\n",
       "      <td>6</td>\n",
       "    </tr>\n",
       "    <tr>\n",
       "      <th>5</th>\n",
       "      <td>Telegram</td>\n",
       "      <td>4</td>\n",
       "    </tr>\n",
       "    <tr>\n",
       "      <th>0</th>\n",
       "      <td>Facebook</td>\n",
       "      <td>3</td>\n",
       "    </tr>\n",
       "    <tr>\n",
       "      <th>3</th>\n",
       "      <td>Reddit</td>\n",
       "      <td>3</td>\n",
       "    </tr>\n",
       "    <tr>\n",
       "      <th>2</th>\n",
       "      <td>LinkedIn</td>\n",
       "      <td>2</td>\n",
       "    </tr>\n",
       "    <tr>\n",
       "      <th>7</th>\n",
       "      <td>Twitter</td>\n",
       "      <td>2</td>\n",
       "    </tr>\n",
       "    <tr>\n",
       "      <th>4</th>\n",
       "      <td>Snapchat</td>\n",
       "      <td>1</td>\n",
       "    </tr>\n",
       "  </tbody>\n",
       "</table>\n",
       "</div>"
      ],
      "text/plain": [
       "  Plateforme_Preferee  Nombre\n",
       "6              TikTok      17\n",
       "8            WhatsApp       8\n",
       "1           Instagram       6\n",
       "5            Telegram       4\n",
       "0            Facebook       3\n",
       "3              Reddit       3\n",
       "2            LinkedIn       2\n",
       "7             Twitter       2\n",
       "4            Snapchat       1"
      ]
     },
     "execution_count": 101,
     "metadata": {},
     "output_type": "execute_result"
    }
   ],
   "source": [
    "utilisation_plateforme =  df.groupby(\"Plateforme_Preferee\", as_index=False)[\"Sexe\"].count()\n",
    "utilisation_plateforme.rename(columns={\"Sexe\": \"Nombre\"}, inplace=True)\n",
    "\n",
    "top_plateforme = utilisation_plateforme.sort_values(\"Nombre\", ascending=False).head(10)\n",
    "utilisation_plateforme.sort_values(\"Nombre\", ascending=False).head(10)"
   ]
  },
  {
   "cell_type": "code",
   "execution_count": 102,
   "metadata": {},
   "outputs": [
    {
     "name": "stderr",
     "output_type": "stream",
     "text": [
      "C:\\Users\\LENOVO\\AppData\\Local\\Temp\\ipykernel_10616\\1873949332.py:6: UserWarning: set_ticklabels() should only be used with a fixed number of ticks, i.e. after set_ticks() or using a FixedLocator.\n",
      "  ax.set_xticklabels(x, rotation=90, ha='right')\n"
     ]
    },
    {
     "data": {
      "image/png": "[encoded data removed]",
      "text/plain": [
       "<Figure size 640x480 with 1 Axes>"
      ]
     },
     "metadata": {},
     "output_type": "display_data"
    }
   ],
   "source": [
    "x = top_plateforme[\"Plateforme_Preferee\"]\n",
    "y = top_plateforme[\"Nombre\"]\n",
    "\n",
    "fig, ax = plt.subplots()\n",
    "ax.bar(x, y, color=\"#500120\", edgecolor='white')\n",
    "ax.set_xticklabels(x, rotation=90, ha='right')\n",
    "ax.set_xticks(x)\n",
    "ax.set_ylabel(\"Nombre d'utilisateurs\")\n",
    "ax.set_title(\"Plateforme Préférée des utilisateurs\")\n",
    "plt.show()"
   ]
  },
  {
   "cell_type": "code",
   "execution_count": 105,
   "metadata": {},
   "outputs": [
    {
     "data": {
      "image/png": "[encoded data removed]",
      "text/plain": [
       "<Figure size 640x480 with 1 Axes>"
      ]
     },
     "metadata": {},
     "output_type": "display_data"
    }
   ],
   "source": [
    "x = top_plateforme[\"Plateforme_Preferee\"]\n",
    "y = top_plateforme[\"Nombre\"]\n",
    "plt.bar(x, y, color= \"#500120\", edgecolor=\"white\")\n",
    "\n",
    "plt.xticks(rotation = 90)\n",
    "plt.title(\"Plateformes préférées\")\n",
    "plt.show()"
   ]
  },
  {
   "cell_type": "markdown",
   "metadata": {},
   "source": [
    "#### Répartition des types d'appareils utilisés"
   ]
  },
  {
   "cell_type": "code",
   "execution_count": 129,
   "metadata": {},
   "outputs": [
    {
     "data": {
      "text/html": [
       "<div>\n",
       "<style scoped>\n",
       "    .dataframe tbody tr th:only-of-type {\n",
       "        vertical-align: middle;\n",
       "    }\n",
       "\n",
       "    .dataframe tbody tr th {\n",
       "        vertical-align: top;\n",
       "    }\n",
       "\n",
       "    .dataframe thead th {\n",
       "        text-align: right;\n",
       "    }\n",
       "</style>\n",
       "<table border=\"1\" class=\"dataframe\">\n",
       "  <thead>\n",
       "    <tr style=\"text-align: right;\">\n",
       "      <th></th>\n",
       "      <th>Appareil</th>\n",
       "      <th>Nombre</th>\n",
       "    </tr>\n",
       "  </thead>\n",
       "  <tbody>\n",
       "    <tr>\n",
       "      <th>0</th>\n",
       "      <td>Console</td>\n",
       "      <td>3</td>\n",
       "    </tr>\n",
       "    <tr>\n",
       "      <th>1</th>\n",
       "      <td>Ordinateur</td>\n",
       "      <td>2</td>\n",
       "    </tr>\n",
       "    <tr>\n",
       "      <th>2</th>\n",
       "      <td>Smart TV</td>\n",
       "      <td>5</td>\n",
       "    </tr>\n",
       "    <tr>\n",
       "      <th>3</th>\n",
       "      <td>Smartphone</td>\n",
       "      <td>31</td>\n",
       "    </tr>\n",
       "    <tr>\n",
       "      <th>4</th>\n",
       "      <td>Tablette</td>\n",
       "      <td>5</td>\n",
       "    </tr>\n",
       "  </tbody>\n",
       "</table>\n",
       "</div>"
      ],
      "text/plain": [
       "     Appareil  Nombre\n",
       "0     Console       3\n",
       "1  Ordinateur       2\n",
       "2    Smart TV       5\n",
       "3  Smartphone      31\n",
       "4    Tablette       5"
      ]
     },
     "execution_count": 129,
     "metadata": {},
     "output_type": "execute_result"
    }
   ],
   "source": [
    "appareils_utilises = df.groupby(\"Appareil\", as_index=False)[\"Sexe\"].count()\n",
    "appareils_utilises.rename(columns={\"Sexe\": \"Nombre\"}, inplace=True)\n",
    "appareils_utilises"
   ]
  },
  {
   "cell_type": "code",
   "execution_count": 136,
   "metadata": {},
   "outputs": [
    {
     "data": {
      "image/png": "[encoded data removed]",
      "text/plain": [
       "<Figure size 640x480 with 1 Axes>"
      ]
     },
     "metadata": {},
     "output_type": "display_data"
    }
   ],
   "source": [
    "sections = appareils_utilises['Nombre']\n",
    "names = appareils_utilises[\"Appareil\"]\n",
    "explode = [0.05 if i == 3 else 0 for i in range(len(sections))]\n",
    "plt.pie(sections, labels=names, autopct=\"%1.1f%%\", explode=explode)\n",
    "plt.title(\"Appareils utilisés\")\n",
    "plt.show()"
   ]
  },
  {
   "cell_type": "markdown",
   "metadata": {},
   "source": [
    "#### Bonus"
   ]
  },
  {
   "cell_type": "markdown",
   "metadata": {},
   "source": [
    "##### Platformes les plus utilisees par sexe"
   ]
  },
  {
   "cell_type": "code",
   "execution_count": 131,
   "metadata": {},
   "outputs": [
    {
     "data": {
      "text/plain": [
       "array(['Instagram', 'TikTok', 'Facebook', 'WhatsApp', 'LinkedIn',\n",
       "       'Telegram', 'Twitter', 'Snapchat', 'Reddit'], dtype=object)"
      ]
     },
     "execution_count": 131,
     "metadata": {},
     "output_type": "execute_result"
    }
   ],
   "source": [
    "df[\"Plateforme_Preferee\"].unique()"
   ]
  },
  {
   "cell_type": "code",
   "execution_count": 132,
   "metadata": {},
   "outputs": [
    {
     "name": "stdout",
     "output_type": "stream",
     "text": [
      "Nombre d'hommes:  30\n"
     ]
    },
    {
     "data": {
      "text/html": [
       "<div>\n",
       "<style scoped>\n",
       "    .dataframe tbody tr th:only-of-type {\n",
       "        vertical-align: middle;\n",
       "    }\n",
       "\n",
       "    .dataframe tbody tr th {\n",
       "        vertical-align: top;\n",
       "    }\n",
       "\n",
       "    .dataframe thead th {\n",
       "        text-align: right;\n",
       "    }\n",
       "</style>\n",
       "<table border=\"1\" class=\"dataframe\">\n",
       "  <thead>\n",
       "    <tr style=\"text-align: right;\">\n",
       "      <th></th>\n",
       "      <th>Plateforme_Preferee</th>\n",
       "      <th>Nombre</th>\n",
       "    </tr>\n",
       "  </thead>\n",
       "  <tbody>\n",
       "    <tr>\n",
       "      <th>6</th>\n",
       "      <td>TikTok</td>\n",
       "      <td>7</td>\n",
       "    </tr>\n",
       "    <tr>\n",
       "      <th>8</th>\n",
       "      <td>WhatsApp</td>\n",
       "      <td>5</td>\n",
       "    </tr>\n",
       "    <tr>\n",
       "      <th>1</th>\n",
       "      <td>Instagram</td>\n",
       "      <td>5</td>\n",
       "    </tr>\n",
       "    <tr>\n",
       "      <th>5</th>\n",
       "      <td>Telegram</td>\n",
       "      <td>4</td>\n",
       "    </tr>\n",
       "    <tr>\n",
       "      <th>3</th>\n",
       "      <td>Reddit</td>\n",
       "      <td>3</td>\n",
       "    </tr>\n",
       "    <tr>\n",
       "      <th>0</th>\n",
       "      <td>Facebook</td>\n",
       "      <td>2</td>\n",
       "    </tr>\n",
       "    <tr>\n",
       "      <th>7</th>\n",
       "      <td>Twitter</td>\n",
       "      <td>2</td>\n",
       "    </tr>\n",
       "    <tr>\n",
       "      <th>4</th>\n",
       "      <td>Snapchat</td>\n",
       "      <td>1</td>\n",
       "    </tr>\n",
       "    <tr>\n",
       "      <th>2</th>\n",
       "      <td>LinkedIn</td>\n",
       "      <td>1</td>\n",
       "    </tr>\n",
       "  </tbody>\n",
       "</table>\n",
       "</div>"
      ],
      "text/plain": [
       "  Plateforme_Preferee  Nombre\n",
       "6              TikTok       7\n",
       "8            WhatsApp       5\n",
       "1           Instagram       5\n",
       "5            Telegram       4\n",
       "3              Reddit       3\n",
       "0            Facebook       2\n",
       "7             Twitter       2\n",
       "4            Snapchat       1\n",
       "2            LinkedIn       1"
      ]
     },
     "execution_count": 132,
     "metadata": {},
     "output_type": "execute_result"
    }
   ],
   "source": [
    "# Hommes\n",
    "print(\"Nombre d'hommes: \", df[df['Sexe'] == 'Masculin']['Sexe'].count())\n",
    "plateformes_homme = df[df[\"Sexe\"] == 'Masculin'].groupby('Plateforme_Preferee', as_index=False)['Sexe'].count()\n",
    "plateformes_homme.rename(columns={\"Sexe\": \"Nombre\"}, inplace=True)\n",
    "plateformes_homme.sort_values(\"Nombre\", ascending=False, inplace=True)\n",
    "plateformes_homme.head(10)"
   ]
  },
  {
   "cell_type": "code",
   "execution_count": 133,
   "metadata": {},
   "outputs": [
    {
     "data": {
      "image/png": "[encoded data removed]",
      "text/plain": [
       "<Figure size 640x480 with 1 Axes>"
      ]
     },
     "metadata": {},
     "output_type": "display_data"
    }
   ],
   "source": [
    "sections = plateformes_homme['Nombre']\n",
    "names = plateformes_homme['Plateforme_Preferee']\n",
    "explode = [0.05 if i == 1 else 0 for i in range(len(sections))]\n",
    "plt.pie(sections, labels=names, autopct=\"%1.1f%%\", explode=explode)\n",
    "plt.title(\"Répartition des plateformes pour les hommes\")\n",
    "plt.show()"
   ]
  },
  {
   "cell_type": "code",
   "execution_count": 134,
   "metadata": {},
   "outputs": [
    {
     "name": "stdout",
     "output_type": "stream",
     "text": [
      "Nombre de femmes:  16\n"
     ]
    },
    {
     "data": {
      "text/html": [
       "<div>\n",
       "<style scoped>\n",
       "    .dataframe tbody tr th:only-of-type {\n",
       "        vertical-align: middle;\n",
       "    }\n",
       "\n",
       "    .dataframe tbody tr th {\n",
       "        vertical-align: top;\n",
       "    }\n",
       "\n",
       "    .dataframe thead th {\n",
       "        text-align: right;\n",
       "    }\n",
       "</style>\n",
       "<table border=\"1\" class=\"dataframe\">\n",
       "  <thead>\n",
       "    <tr style=\"text-align: right;\">\n",
       "      <th></th>\n",
       "      <th>Plateforme_Preferee</th>\n",
       "      <th>Nombre</th>\n",
       "    </tr>\n",
       "  </thead>\n",
       "  <tbody>\n",
       "    <tr>\n",
       "      <th>3</th>\n",
       "      <td>TikTok</td>\n",
       "      <td>10</td>\n",
       "    </tr>\n",
       "    <tr>\n",
       "      <th>4</th>\n",
       "      <td>WhatsApp</td>\n",
       "      <td>3</td>\n",
       "    </tr>\n",
       "    <tr>\n",
       "      <th>0</th>\n",
       "      <td>Facebook</td>\n",
       "      <td>1</td>\n",
       "    </tr>\n",
       "    <tr>\n",
       "      <th>2</th>\n",
       "      <td>LinkedIn</td>\n",
       "      <td>1</td>\n",
       "    </tr>\n",
       "    <tr>\n",
       "      <th>1</th>\n",
       "      <td>Instagram</td>\n",
       "      <td>1</td>\n",
       "    </tr>\n",
       "  </tbody>\n",
       "</table>\n",
       "</div>"
      ],
      "text/plain": [
       "  Plateforme_Preferee  Nombre\n",
       "3              TikTok      10\n",
       "4            WhatsApp       3\n",
       "0            Facebook       1\n",
       "2            LinkedIn       1\n",
       "1           Instagram       1"
      ]
     },
     "execution_count": 134,
     "metadata": {},
     "output_type": "execute_result"
    }
   ],
   "source": [
    "# Femmes\n",
    "print(\"Nombre de femmes: \", df[df['Sexe'] == 'Feminin']['Sexe'].count())\n",
    "plateformes_femme = df[df[\"Sexe\"] == 'Feminin'].groupby('Plateforme_Preferee', as_index=False)['Sexe'].count()\n",
    "plateformes_femme.rename(columns={'Sexe': \"Nombre\"}, inplace=True)\n",
    "plateformes_femme.sort_values(\"Nombre\", ascending=False, inplace=True)\n",
    "plateformes_femme.head(10)"
   ]
  },
  {
   "cell_type": "code",
   "execution_count": 135,
   "metadata": {},
   "outputs": [
    {
     "data": {
      "image/png": "[encoded data removed]",
      "text/plain": [
       "<Figure size 640x480 with 1 Axes>"
      ]
     },
     "metadata": {},
     "output_type": "display_data"
    }
   ],
   "source": [
    "sections = plateformes_femme[\"Nombre\"]\n",
    "names = plateformes_femme[\"Plateforme_Preferee\"]\n",
    "explode = [0.05 if i == 0 else 0 for i in range(len(sections))]\n",
    "plt.pie(sections, labels=names, autopct=\"%1.1f%%\", explode=explode)\n",
    "plt.title(\"Réparition des plateformes pour les femmes\")\n",
    "plt.show()"
   ]
  },
  {
   "cell_type": "code",
   "execution_count": null,
   "metadata": {},
   "outputs": [],
   "source": []
  }
 ],
 "metadata": {
  "kernelspec": {
   "display_name": "Python 3",
   "language": "python",
   "name": "python3"
  },
  "language_info": {
   "codemirror_mode": {
    "name": "ipython",
    "version": 3
   },
   "file_extension": ".py",
   "mimetype": "text/x-python",
   "name": "python",
   "nbconvert_exporter": "python",
   "pygments_lexer": "ipython3",
   "version": "3.13.1"
  }
 },
 "nbformat": 4,
 "nbformat_minor": 2
}
