{
 "cells": [
  {
   "cell_type": "markdown",
   "metadata": {},
   "source": [
    "## Première question \n",
    "# À lʼaide de Pandas, fais une analyse descriptive des données"
   ]
  },
  {
   "cell_type": "code",
   "execution_count": 1,
   "metadata": {},
   "outputs": [
    {
     "name": "stdout",
     "output_type": "stream",
     "text": [
      "\n",
      " Statistiques de temps quotidien par activité :\n"
     ]
    },
    {
     "data": {
      "text/html": [
       "<div>\n",
       "<style scoped>\n",
       "    .dataframe tbody tr th:only-of-type {\n",
       "        vertical-align: middle;\n",
       "    }\n",
       "\n",
       "    .dataframe tbody tr th {\n",
       "        vertical-align: top;\n",
       "    }\n",
       "\n",
       "    .dataframe thead th {\n",
       "        text-align: right;\n",
       "    }\n",
       "</style>\n",
       "<table border=\"1\" class=\"dataframe\">\n",
       "  <thead>\n",
       "    <tr style=\"text-align: right;\">\n",
       "      <th></th>\n",
       "      <th>Activité</th>\n",
       "      <th>Moyenne (min)</th>\n",
       "      <th>Médiane (min)</th>\n",
       "    </tr>\n",
       "  </thead>\n",
       "  <tbody>\n",
       "    <tr>\n",
       "      <th>0</th>\n",
       "      <td>Réseaux sociaux</td>\n",
       "      <td>6.266667</td>\n",
       "      <td>6.5</td>\n",
       "    </tr>\n",
       "    <tr>\n",
       "      <th>1</th>\n",
       "      <td>Streaming</td>\n",
       "      <td>3.333333</td>\n",
       "      <td>1.5</td>\n",
       "    </tr>\n",
       "    <tr>\n",
       "      <th>2</th>\n",
       "      <td>Jeux vidéo</td>\n",
       "      <td>2.766667</td>\n",
       "      <td>1.5</td>\n",
       "    </tr>\n",
       "  </tbody>\n",
       "</table>\n",
       "</div>"
      ],
      "text/plain": [
       "          Activité  Moyenne (min)  Médiane (min)\n",
       "0  Réseaux sociaux       6.266667            6.5\n",
       "1        Streaming       3.333333            1.5\n",
       "2       Jeux vidéo       2.766667            1.5"
      ]
     },
     "execution_count": 1,
     "metadata": {},
     "output_type": "execute_result"
    }
   ],
   "source": [
    "import pandas as pd  \n",
    "\n",
    "# 1) Moyennes et médianes du temps passé par activité :\n",
    "\n",
    "df = pd.read_csv(\"donnees_con.csv\") # lecture du fichier csv\n",
    "# fonction de convertion en minutes\n",
    "def convert (time_str) : \n",
    "    try : \n",
    "        if \"<\" in time_str:\n",
    "            return 0.5\n",
    "        start, end = time_str.split('-') \n",
    "        start_h = int(start.replace('h', '')) \n",
    "        end_h = int(end.replace('h','')) # on enlève le 'h' et on convertit en int\n",
    "        duration = (start_h + end_h)/2 # calcul de la durée en heures\n",
    "        return duration \n",
    "    except :\n",
    "        return 0\n",
    "\n",
    "# Convertion des colonnes d'activités \n",
    "for col in ['Temps_Réseau', 'Temps_Streaming', 'Temps_Jeux'] : \n",
    "    df[col] = df[col].apply(convert)\n",
    "\n",
    "# Calculer les statistiques\n",
    "statistiques = {\n",
    "    'Activité': ['Réseaux sociaux', 'Streaming', 'Jeux vidéo'],\n",
    "    'Moyenne (min)': [\n",
    "        df[\"Temps_Réseau\"].mean(),\n",
    "        df[\"Temps_Streaming\"].mean(),\n",
    "        df[\"Temps_Jeux\"].mean()\n",
    "    ],\n",
    "    'Médiane (min)': [\n",
    "        df[\"Temps_Réseau\"].median(),\n",
    "        df[\"Temps_Streaming\"].median(),\n",
    "        df[\"Temps_Jeux\"].median()\n",
    "    ]\n",
    "}\n",
    "\n",
    "print(\"\\n Statistiques de temps quotidien par activité :\")\n",
    "df_resultat = pd.DataFrame(statistiques)\n",
    "df_resultat"
   ]
  },
  {
   "cell_type": "markdown",
   "metadata": {},
   "source": [
    "## Deuxième question"
   ]
  },
  {
   "cell_type": "code",
   "execution_count": 8,
   "metadata": {},
   "outputs": [
    {
     "name": "stdout",
     "output_type": "stream",
     "text": [
      "\n",
      "=== Répartition par Sexe ===\n",
      "Sexe                 Feminin  Masculin\n",
      "Plateforme_Préférée                   \n",
      "Facebook                   1         0\n",
      "Instagram                  1         1\n",
      "TikTok                     7         3\n",
      "WhatsApp                   1         3\n",
      "\n",
      "=== Répartition par Âge ===\n"
     ]
    },
    {
     "data": {
      "text/html": [
       "<div>\n",
       "<style scoped>\n",
       "    .dataframe tbody tr th:only-of-type {\n",
       "        vertical-align: middle;\n",
       "    }\n",
       "\n",
       "    .dataframe tbody tr th {\n",
       "        vertical-align: top;\n",
       "    }\n",
       "\n",
       "    .dataframe thead th {\n",
       "        text-align: right;\n",
       "    }\n",
       "</style>\n",
       "<table border=\"1\" class=\"dataframe\">\n",
       "  <thead>\n",
       "    <tr style=\"text-align: right;\">\n",
       "      <th>Tranche_dage</th>\n",
       "      <th>18 - 24 ans</th>\n",
       "      <th>25 - 34 ans</th>\n",
       "    </tr>\n",
       "    <tr>\n",
       "      <th>Plateforme_Préférée</th>\n",
       "      <th></th>\n",
       "      <th></th>\n",
       "    </tr>\n",
       "  </thead>\n",
       "  <tbody>\n",
       "    <tr>\n",
       "      <th>Instagram</th>\n",
       "      <td>2</td>\n",
       "      <td>0</td>\n",
       "    </tr>\n",
       "    <tr>\n",
       "      <th>TikTok</th>\n",
       "      <td>9</td>\n",
       "      <td>1</td>\n",
       "    </tr>\n",
       "    <tr>\n",
       "      <th>WhatsApp</th>\n",
       "      <td>4</td>\n",
       "      <td>0</td>\n",
       "    </tr>\n",
       "  </tbody>\n",
       "</table>\n",
       "</div>"
      ],
      "text/plain": [
       "Tranche_dage         18 - 24 ans  25 - 34 ans\n",
       "Plateforme_Préférée                          \n",
       "Instagram                      2            0\n",
       "TikTok                         9            1\n",
       "WhatsApp                       4            0"
      ]
     },
     "execution_count": 8,
     "metadata": {},
     "output_type": "execute_result"
    }
   ],
   "source": [
    "#  Répartition des plateformes préférées par tranche dʼâge ou sexe\n",
    "import pandas as pd\n",
    "\n",
    "# Charger les données\n",
    "df = pd.read_csv(\"../Donnees/donnees_con.csv\")\n",
    "\n",
    "# Nettoyer et éclater les plateformes\n",
    "df[\"Plateforme_Préférée\"] = df[\"Plateforme_Préférée\"].astype(str).str.split(\";\") # Convertir les valeurs en liste\n",
    "df[\"Plateforme_Préférée\"] = df[\"Plateforme_Préférée\"].apply(\n",
    "    lambda x: [item.strip() for item in x if item.strip() != \"nan\"]\n",
    ") # Supprimer les valeurs \"nan\" et les espaces\n",
    "\n",
    "df_ex = df.explode(\"Plateforme_Préférée\").dropna(subset=[\"Plateforme_Préférée\"]) # Éclater les listes en lignes individuelles\n",
    "\n",
    "# Gérer les tranches d'âge\n",
    "age_order = [\"10 - 17 ans\", \"18 - 24 ans\", \"25 - 34 ans\", \"35 - 44 ans\", \"45 - 54 ans\", \"55 - et plus\"] # Définir l'ordre des catégories\n",
    "df_ex[\"Tranche_dage\"] = pd.Categorical(df_ex[\"Age\"], categories=age_order, ordered=True) # Convertir la colonne \"Age\" en catégorie ordonnée\n",
    "\n",
    "# 1. Tableau par ÂGE\n",
    "distribution_age = pd.crosstab(\n",
    "    index=df_ex[\"Plateforme_Préférée\"],\n",
    "    columns=df_ex[\"Tranche_dage\"]\n",
    ")\n",
    "\n",
    "# 2. Tableau par SEXE\n",
    "distribution_sexe = pd.crosstab(\n",
    "    index=df_ex[\"Plateforme_Préférée\"],\n",
    "    columns=df_ex[\"Sexe\"]\n",
    ")\n",
    "\n",
    "print(\"\\n=== Répartition par Sexe ===\")\n",
    "print(distribution_sexe)\n",
    "\n",
    "print(\"\\n=== Répartition par Âge ===\")\n",
    "distribution_age"
   ]
  },
  {
   "cell_type": "markdown",
   "metadata": {},
   "source": [
    "## Troisième question"
   ]
  },
  {
   "cell_type": "code",
   "execution_count": 4,
   "metadata": {},
   "outputs": [
    {
     "name": "stdout",
     "output_type": "stream",
     "text": [
      "\n",
      " Taux d'utilisation des appareils :\n"
     ]
    },
    {
     "data": {
      "text/html": [
       "<div>\n",
       "<style scoped>\n",
       "    .dataframe tbody tr th:only-of-type {\n",
       "        vertical-align: middle;\n",
       "    }\n",
       "\n",
       "    .dataframe tbody tr th {\n",
       "        vertical-align: top;\n",
       "    }\n",
       "\n",
       "    .dataframe thead th {\n",
       "        text-align: right;\n",
       "    }\n",
       "</style>\n",
       "<table border=\"1\" class=\"dataframe\">\n",
       "  <thead>\n",
       "    <tr style=\"text-align: right;\">\n",
       "      <th></th>\n",
       "      <th>Appareils utilisés</th>\n",
       "      <th>Pourcentage</th>\n",
       "    </tr>\n",
       "  </thead>\n",
       "  <tbody>\n",
       "    <tr>\n",
       "      <th>0</th>\n",
       "      <td>Smartphone</td>\n",
       "      <td>88.24</td>\n",
       "    </tr>\n",
       "    <tr>\n",
       "      <th>1</th>\n",
       "      <td>Tablette</td>\n",
       "      <td>11.76</td>\n",
       "    </tr>\n",
       "  </tbody>\n",
       "</table>\n",
       "</div>"
      ],
      "text/plain": [
       "  Appareils utilisés  Pourcentage\n",
       "0         Smartphone        88.24\n",
       "1           Tablette        11.76"
      ]
     },
     "execution_count": 4,
     "metadata": {},
     "output_type": "execute_result"
    }
   ],
   "source": [
    "# Taux dʼutilisation des différents appareils\n",
    "import pandas as pd\n",
    "\n",
    "df = pd.read_csv(\"../Donnees/donnees_con.csv\")\n",
    "\n",
    "# Nettoyer et éclater les appareils\n",
    "df[\"Appareil\"] = df[\"Appareil\"].str.split(\";\").apply(lambda x: [item.strip() for item in x])\n",
    "df_ex = df.explode(\"Appareil\")\n",
    "\n",
    "# Calcul du taux avec df_ex\n",
    "resultat = (\n",
    "    df_ex.groupby(\"Appareil\")  # <-- Utiliser df_ex ici\n",
    "    .size()\n",
    "    .div(len(df))  # Diviser par le nombre total de répondants (pas de doublons)\n",
    "    .mul(100)\n",
    "    .round(2)\n",
    "    .sort_values(ascending=False)  # Trier par pourcentage décroissant\n",
    "    .reset_index()\n",
    "    .rename(columns={\"Appareil\": \"Appareils utilisés\", 0: \"Pourcentage\"})\n",
    ")\n",
    "\n",
    "print(\"\\n Taux d'utilisation des appareils :\")\n",
    "resultat"
   ]
  },
  {
   "cell_type": "markdown",
   "metadata": {},
   "source": [
    "## Bonus"
   ]
  },
  {
   "cell_type": "code",
   "execution_count": 3,
   "metadata": {},
   "outputs": [
    {
     "name": "stdout",
     "output_type": "stream",
     "text": [
      "\n",
      " Statistiques de temps quotidien par activité :\n"
     ]
    },
    {
     "data": {
      "text/html": [
       "<div>\n",
       "<style scoped>\n",
       "    .dataframe tbody tr th:only-of-type {\n",
       "        vertical-align: middle;\n",
       "    }\n",
       "\n",
       "    .dataframe tbody tr th {\n",
       "        vertical-align: top;\n",
       "    }\n",
       "\n",
       "    .dataframe thead th {\n",
       "        text-align: right;\n",
       "    }\n",
       "</style>\n",
       "<table border=\"1\" class=\"dataframe\">\n",
       "  <thead>\n",
       "    <tr style=\"text-align: right;\">\n",
       "      <th></th>\n",
       "      <th>Activités</th>\n",
       "      <th>Minimum</th>\n",
       "      <th>Maximum</th>\n",
       "      <th>Ecart-type</th>\n",
       "    </tr>\n",
       "  </thead>\n",
       "  <tbody>\n",
       "    <tr>\n",
       "      <th>0</th>\n",
       "      <td>Réseaux sociaux</td>\n",
       "      <td>1.5</td>\n",
       "      <td>9.5</td>\n",
       "      <td>3.023195</td>\n",
       "    </tr>\n",
       "    <tr>\n",
       "      <th>1</th>\n",
       "      <td>Streaming</td>\n",
       "      <td>1.5</td>\n",
       "      <td>9.5</td>\n",
       "      <td>2.634611</td>\n",
       "    </tr>\n",
       "    <tr>\n",
       "      <th>2</th>\n",
       "      <td>Jeux vidéo</td>\n",
       "      <td>1.5</td>\n",
       "      <td>7.5</td>\n",
       "      <td>1.806850</td>\n",
       "    </tr>\n",
       "  </tbody>\n",
       "</table>\n",
       "</div>"
      ],
      "text/plain": [
       "         Activités  Minimum  Maximum  Ecart-type\n",
       "0  Réseaux sociaux      1.5      9.5    3.023195\n",
       "1        Streaming      1.5      9.5    2.634611\n",
       "2       Jeux vidéo      1.5      7.5    1.806850"
      ]
     },
     "execution_count": 3,
     "metadata": {},
     "output_type": "execute_result"
    }
   ],
   "source": [
    "import pandas as pd  \n",
    "\n",
    "# 1) Moyennes et médianes du temps passé par activité :\n",
    "\n",
    "df = pd.read_csv(\"../Donnees/donnees_con.csv\") # lecture du fichier csv\n",
    "\n",
    "# fonction de convertion \n",
    "def convert (time_str) : \n",
    "    try : \n",
    "        if \"<\" in time_str:\n",
    "            return 0.5\n",
    "        \n",
    "        start, end = time_str.split('-') # on sépare les heures de début et de fin\n",
    "        start_h = int(start.replace('h', '')) \n",
    "        end_h = int(end.replace('h','')) # on enlève le 'h' et on convertit en int\n",
    "        duration = (start_h + end_h)/2 # calcul de la durée en heures\n",
    "        return duration \n",
    "    except :\n",
    "        return 0\n",
    "\n",
    "# Convertion des colonnes d'activités \n",
    "for col in ['Temps_Réseau', 'Temps_Streaming', 'Temps_Jeux'] : \n",
    "    df[col] = df[col].apply(convert)\n",
    "# Calculer les statistiques\n",
    "statistiques = {\n",
    "    'Activités': ['Réseaux sociaux', 'Streaming', 'Jeux vidéo'],\n",
    "    'Minimum': [\n",
    "        df[\"Temps_Réseau\"].min(),\n",
    "        df[\"Temps_Streaming\"].min(),\n",
    "        df[\"Temps_Jeux\"].min()\n",
    "    ],\n",
    "    'Maximum': [\n",
    "        df[\"Temps_Réseau\"].max(),\n",
    "        df[\"Temps_Streaming\"].max(),\n",
    "        df[\"Temps_Jeux\"].max()\n",
    "    ],\n",
    "    'Ecart-type' : [\n",
    "        df[\"Temps_Réseau\"].std(),\n",
    "        df[\"Temps_Streaming\"].std(),\n",
    "        df[\"Temps_Jeux\"].std()\n",
    "    ]\n",
    "}\n",
    "\n",
    "print(\"\\n Statistiques de temps quotidien par activité :\")\n",
    "df_resultat = pd.DataFrame(statistiques)\n",
    "df_resultat"
   ]
  },
  {
   "cell_type": "code",
   "execution_count": null,
   "metadata": {},
   "outputs": [],
   "source": []
  }
 ],
 "metadata": {
  "kernelspec": {
   "display_name": "Python 3",
   "language": "python",
   "name": "python3"
  },
  "language_info": {
   "codemirror_mode": {
    "name": "ipython",
    "version": 3
   },
   "file_extension": ".py",
   "mimetype": "text/x-python",
   "name": "python",
   "nbconvert_exporter": "python",
   "pygments_lexer": "ipython3",
   "version": "3.13.1"
  }
 },
 "nbformat": 4,
 "nbformat_minor": 2
}
