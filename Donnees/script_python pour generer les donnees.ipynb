{
 "cells": [
  {
   "cell_type": "code",
   "execution_count": 1,
   "metadata": {},
   "outputs": [],
   "source": [
    "import csv\n",
    "import random\n",
    "\n",
    "# Listes de prénoms et noms fictifs\n",
    "prenoms = [\"Alice\", \"Maxime\", \"Chloé\", \"Nicolas\", \"Sophie\", \"Julien\", \"Emma\", \"Alexandre\", \"Léa\", \"Thomas\"]\n",
    "noms = [\"Durand\", \"Lefebvre\", \"Morel\", \"Garnier\", \"Bernard\", \"Dubois\", \"Noël\", \"Giraud\", \"Blanc\", \"Fontaine\"]\n",
    "\n",
    "# Listes des plateformes\n",
    "reseaux_sociaux = [\"Facebook\", \"Instagram\", \"Twitter\", \"Snapchat\", \"TikTok\", \"Reddit\", \"Discord\", \"Telegram\", \"LinkedIn\", \"WhatsApp\"]\n",
    "streaming = [\"Netflix\", \"YouTube\", \"Amazon Prime Video\", \"Disney+\", \"HBO Max\", \"Hulu\", \"Apple TV+\", \"Twitch\", \"Canal+\", \"Spotify\"]\n",
    "jeux_videos = [\"Steam\", \"PlayStation\", \"Xbox\", \"Nintendo Switch\", \"Epic Games\", \"Mobile Games\", \"VR Games\"]\n",
    "appareils = [\"Smartphone\", \"Tablette\", \"Ordinateur\", \"Console\", \"Smart TV\"]\n",
    "\n",
    "# Fonction pour générer des données aléatoires\n",
    "def generer_donnees(n):\n",
    "    donnees = []\n",
    "    for _ in range(n):\n",
    "        nom = random.choice(noms)\n",
    "        prenom = random.choice(prenoms)\n",
    "        age = random.randint(18, 35)\n",
    "        sexe = random.choice([\"H\", \"F\"])\n",
    "        temps_reseaux = round(random.uniform(0.5, 5), 1)\n",
    "        temps_streaming = round(random.uniform(0.5, 5), 1)\n",
    "        temps_jeux = round(random.uniform(0, 4), 1)\n",
    "        plateforme_preferee = random.choice(reseaux_sociaux + streaming + jeux_videos)\n",
    "        appareil = random.choice(appareils)\n",
    "        \n",
    "        donnees.append([nom, prenom, age, sexe, temps_reseaux, temps_streaming, temps_jeux, plateforme_preferee, appareil])\n",
    "    \n",
    "    return donnees\n",
    "\n",
    "# Fonction pour écrire dans un fichier CSV\n",
    "def ecrire_csv(n, fichier=\"donnees_consommation.csv\"):\n",
    "    donnees = generer_donnees(n)\n",
    "    with open(fichier, \"w\", newline=\"\", encoding=\"utf-8\") as f:\n",
    "        writer = csv.writer(f)\n",
    "        writer.writerow([\"Nom\", \"Prenom\", \"Age\", \"Sexe\", \"Temps_Réseaux\", \"Temps_Streaming\", \"Temps_Jeux\", \"Plateforme_Préférée\", \"Appareil\"])\n",
    "        writer.writerows(donnees)\n",
    "    print(f\"Fichier {fichier} généré avec {n} entrées.\")\n",
    "\n",
    "# # Exécution\n",
    "# if __name__ == \"__main__\":\n",
    "#     n = int(input(\"Combien de lignes de données souhaitez-vous générer ? \"))\n",
    "#     ecrire_csv(n)\n"
   ]
  },
  {
   "cell_type": "code",
   "execution_count": 2,
   "metadata": {},
   "outputs": [
    {
     "name": "stdout",
     "output_type": "stream",
     "text": [
      "Fichier donnees_consommation.csv généré avec 100 entrées.\n"
     ]
    }
   ],
   "source": [
    "# Exécution\n",
    "ecrire_csv(100)"
   ]
  },
  {
   "cell_type": "code",
   "execution_count": null,
   "metadata": {},
   "outputs": [],
   "source": []
  }
 ],
 "metadata": {
  "kernelspec": {
   "display_name": "Python 3",
   "language": "python",
   "name": "python3"
  },
  "language_info": {
   "codemirror_mode": {
    "name": "ipython",
    "version": 3
   },
   "file_extension": ".py",
   "mimetype": "text/x-python",
   "name": "python",
   "nbconvert_exporter": "python",
   "pygments_lexer": "ipython3",
   "version": "3.13.1"
  }
 },
 "nbformat": 4,
 "nbformat_minor": 2
}
