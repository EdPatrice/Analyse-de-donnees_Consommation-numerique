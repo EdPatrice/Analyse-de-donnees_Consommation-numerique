{
 "cells": [
  {
   "cell_type": "code",
   "execution_count": 1,
   "metadata": {},
   "outputs": [],
   "source": [
    "import pandas as pd\n",
    "import numpy as np \n",
    "import matplotlib as plt"
   ]
  },
  {
   "cell_type": "code",
   "execution_count": 2,
   "metadata": {},
   "outputs": [],
   "source": [
    "df = pd.read_csv(\"./Donnees/donnees_consommation.csv\")"
   ]
  },
  {
   "cell_type": "code",
   "execution_count": 3,
   "metadata": {},
   "outputs": [
    {
     "data": {
      "text/html": [
       "<div>\n",
       "<style scoped>\n",
       "    .dataframe tbody tr th:only-of-type {\n",
       "        vertical-align: middle;\n",
       "    }\n",
       "\n",
       "    .dataframe tbody tr th {\n",
       "        vertical-align: top;\n",
       "    }\n",
       "\n",
       "    .dataframe thead th {\n",
       "        text-align: right;\n",
       "    }\n",
       "</style>\n",
       "<table border=\"1\" class=\"dataframe\">\n",
       "  <thead>\n",
       "    <tr style=\"text-align: right;\">\n",
       "      <th></th>\n",
       "      <th>Nom</th>\n",
       "      <th>Prenom</th>\n",
       "      <th>Age</th>\n",
       "      <th>Sexe</th>\n",
       "      <th>Temps_Réseaux</th>\n",
       "      <th>Temps_Streaming</th>\n",
       "      <th>Temps_Jeux</th>\n",
       "      <th>Plateforme_Préférée</th>\n",
       "      <th>Appareil</th>\n",
       "    </tr>\n",
       "  </thead>\n",
       "  <tbody>\n",
       "    <tr>\n",
       "      <th>0</th>\n",
       "      <td>Durand</td>\n",
       "      <td>Maxime</td>\n",
       "      <td>32</td>\n",
       "      <td>H</td>\n",
       "      <td>4.2</td>\n",
       "      <td>1.7</td>\n",
       "      <td>3.1</td>\n",
       "      <td>Discord</td>\n",
       "      <td>Tablette</td>\n",
       "    </tr>\n",
       "    <tr>\n",
       "      <th>1</th>\n",
       "      <td>Morel</td>\n",
       "      <td>Thomas</td>\n",
       "      <td>18</td>\n",
       "      <td>H</td>\n",
       "      <td>2.3</td>\n",
       "      <td>1.3</td>\n",
       "      <td>0.7</td>\n",
       "      <td>Xbox</td>\n",
       "      <td>Console</td>\n",
       "    </tr>\n",
       "    <tr>\n",
       "      <th>2</th>\n",
       "      <td>Durand</td>\n",
       "      <td>Julien</td>\n",
       "      <td>23</td>\n",
       "      <td>F</td>\n",
       "      <td>0.8</td>\n",
       "      <td>0.6</td>\n",
       "      <td>0.5</td>\n",
       "      <td>Steam</td>\n",
       "      <td>Ordinateur</td>\n",
       "    </tr>\n",
       "    <tr>\n",
       "      <th>3</th>\n",
       "      <td>Fontaine</td>\n",
       "      <td>Léa</td>\n",
       "      <td>26</td>\n",
       "      <td>F</td>\n",
       "      <td>3.5</td>\n",
       "      <td>0.7</td>\n",
       "      <td>1.4</td>\n",
       "      <td>Hulu</td>\n",
       "      <td>Ordinateur</td>\n",
       "    </tr>\n",
       "    <tr>\n",
       "      <th>4</th>\n",
       "      <td>Fontaine</td>\n",
       "      <td>Léa</td>\n",
       "      <td>29</td>\n",
       "      <td>F</td>\n",
       "      <td>3.0</td>\n",
       "      <td>4.1</td>\n",
       "      <td>1.7</td>\n",
       "      <td>Discord</td>\n",
       "      <td>Console</td>\n",
       "    </tr>\n",
       "  </tbody>\n",
       "</table>\n",
       "</div>"
      ],
      "text/plain": [
       "        Nom  Prenom  Age Sexe  Temps_Réseaux  Temps_Streaming  Temps_Jeux  \\\n",
       "0    Durand  Maxime   32    H            4.2              1.7         3.1   \n",
       "1     Morel  Thomas   18    H            2.3              1.3         0.7   \n",
       "2    Durand  Julien   23    F            0.8              0.6         0.5   \n",
       "3  Fontaine     Léa   26    F            3.5              0.7         1.4   \n",
       "4  Fontaine     Léa   29    F            3.0              4.1         1.7   \n",
       "\n",
       "  Plateforme_Préférée    Appareil  \n",
       "0             Discord    Tablette  \n",
       "1                Xbox     Console  \n",
       "2               Steam  Ordinateur  \n",
       "3                Hulu  Ordinateur  \n",
       "4             Discord     Console  "
      ]
     },
     "execution_count": 3,
     "metadata": {},
     "output_type": "execute_result"
    }
   ],
   "source": [
    "df.head()"
   ]
  },
  {
   "cell_type": "code",
   "execution_count": null,
   "metadata": {},
   "outputs": [],
   "source": []
  }
 ],
 "metadata": {
  "kernelspec": {
   "display_name": "Python 3",
   "language": "python",
   "name": "python3"
  },
  "language_info": {
   "codemirror_mode": {
    "name": "ipython",
    "version": 3
   },
   "file_extension": ".py",
   "mimetype": "text/x-python",
   "name": "python",
   "nbconvert_exporter": "python",
   "pygments_lexer": "ipython3",
   "version": "3.13.1"
  }
 },
 "nbformat": 4,
 "nbformat_minor": 2
}
